{
 "cells": [
  {
   "cell_type": "code",
   "execution_count": 4,
   "metadata": {},
   "outputs": [],
   "source": [
    "import pandas\n",
    "import torch\n",
    "from transformers import AutoModel, AutoTokenizer"
   ]
  },
  {
   "cell_type": "code",
   "execution_count": 5,
   "metadata": {},
   "outputs": [],
   "source": [
    "data = pandas.read_csv(\"data_clean.csv\")"
   ]
  },
  {
   "cell_type": "code",
   "execution_count": 6,
   "metadata": {},
   "outputs": [],
   "source": [
    "tokenizer = AutoTokenizer.from_pretrained(\"google-bert/bert-base-multilingual-cased\")"
   ]
  },
  {
   "cell_type": "code",
   "execution_count": 7,
   "metadata": {},
   "outputs": [],
   "source": [
    "tok = [tokenizer.encode(s) for s in data['short_description']]"
   ]
  },
  {
   "cell_type": "code",
   "execution_count": 8,
   "metadata": {},
   "outputs": [],
   "source": [
    "inv_vocab = {v: k for k, v in tokenizer.vocab.items()}"
   ]
  },
  {
   "cell_type": "code",
   "execution_count": 9,
   "metadata": {},
   "outputs": [
    {
     "data": {
      "text/plain": [
       "['[CLS]',\n",
       " 'Ga',\n",
       " '##in',\n",
       " 'peace',\n",
       " 'of',\n",
       " 'mind',\n",
       " 'with',\n",
       " 'Safe',\n",
       " '##e',\n",
       " '-',\n",
       " 'a',\n",
       " 'security',\n",
       " 'app',\n",
       " 'offering',\n",
       " 'disc',\n",
       " '##ree',\n",
       " '##t',\n",
       " 'ale',\n",
       " '##rts',\n",
       " ',',\n",
       " 'real',\n",
       " '-',\n",
       " 'time',\n",
       " 'tracking',\n",
       " ',',\n",
       " 'and',\n",
       " 'live',\n",
       " 'video',\n",
       " 'streaming',\n",
       " '.',\n",
       " 'En',\n",
       " '##sur',\n",
       " '##ing',\n",
       " 'your',\n",
       " 'family',\n",
       " \"'\",\n",
       " 's',\n",
       " 'safety',\n",
       " '24',\n",
       " '/',\n",
       " '7',\n",
       " '.',\n",
       " '[SEP]']"
      ]
     },
     "execution_count": 9,
     "metadata": {},
     "output_type": "execute_result"
    }
   ],
   "source": [
    "sentence_id = 330\n",
    "[inv_vocab[t] for t in tok[sentence_id]]"
   ]
  },
  {
   "cell_type": "code",
   "execution_count": 10,
   "metadata": {},
   "outputs": [
    {
     "name": "stdout",
     "output_type": "stream",
     "text": [
      "39.21344537815126\n"
     ]
    },
    {
     "data": {
      "text/plain": [
       "(array([ 5.,  4., 13., 32., 29., 55., 54., 88., 76., 61., 52., 38., 38.,\n",
       "        22., 14.,  1.,  9.,  3.,  0.,  1.]),\n",
       " array([ 6.  ,  9.95, 13.9 , 17.85, 21.8 , 25.75, 29.7 , 33.65, 37.6 ,\n",
       "        41.55, 45.5 , 49.45, 53.4 , 57.35, 61.3 , 65.25, 69.2 , 73.15,\n",
       "        77.1 , 81.05, 85.  ]),\n",
       " <BarContainer object of 20 artists>)"
      ]
     },
     "execution_count": 10,
     "metadata": {},
     "output_type": "execute_result"
    },
    {
     "data": {
      "image/png": "[encoded data removed]",
      "text/plain": [
       "<Figure size 640x480 with 1 Axes>"
      ]
     },
     "metadata": {},
     "output_type": "display_data"
    }
   ],
   "source": [
    "# token number\n",
    "tok_len = [len(t) for t in tok]\n",
    "# average number of tokens per description\n",
    "print(sum(tok_len) / len(tok_len))\n",
    "import matplotlib.pyplot as plt\n",
    "plt.hist(tok_len, bins=20)"
   ]
  },
  {
   "cell_type": "code",
   "execution_count": 11,
   "metadata": {},
   "outputs": [
    {
     "data": {
      "text/plain": [
       "BertModel(\n",
       "  (embeddings): BertEmbeddings(\n",
       "    (word_embeddings): Embedding(119547, 768, padding_idx=0)\n",
       "    (position_embeddings): Embedding(512, 768)\n",
       "    (token_type_embeddings): Embedding(2, 768)\n",
       "    (LayerNorm): LayerNorm((768,), eps=1e-12, elementwise_affine=True)\n",
       "    (dropout): Dropout(p=0.1, inplace=False)\n",
       "  )\n",
       "  (encoder): BertEncoder(\n",
       "    (layer): ModuleList(\n",
       "      (0-11): 12 x BertLayer(\n",
       "        (attention): BertAttention(\n",
       "          (self): BertSdpaSelfAttention(\n",
       "            (query): Linear(in_features=768, out_features=768, bias=True)\n",
       "            (key): Linear(in_features=768, out_features=768, bias=True)\n",
       "            (value): Linear(in_features=768, out_features=768, bias=True)\n",
       "            (dropout): Dropout(p=0.1, inplace=False)\n",
       "          )\n",
       "          (output): BertSelfOutput(\n",
       "            (dense): Linear(in_features=768, out_features=768, bias=True)\n",
       "            (LayerNorm): LayerNorm((768,), eps=1e-12, elementwise_affine=True)\n",
       "            (dropout): Dropout(p=0.1, inplace=False)\n",
       "          )\n",
       "        )\n",
       "        (intermediate): BertIntermediate(\n",
       "          (dense): Linear(in_features=768, out_features=3072, bias=True)\n",
       "          (intermediate_act_fn): GELUActivation()\n",
       "        )\n",
       "        (output): BertOutput(\n",
       "          (dense): Linear(in_features=3072, out_features=768, bias=True)\n",
       "          (LayerNorm): LayerNorm((768,), eps=1e-12, elementwise_affine=True)\n",
       "          (dropout): Dropout(p=0.1, inplace=False)\n",
       "        )\n",
       "      )\n",
       "    )\n",
       "  )\n",
       "  (pooler): BertPooler(\n",
       "    (dense): Linear(in_features=768, out_features=768, bias=True)\n",
       "    (activation): Tanh()\n",
       "  )\n",
       ")"
      ]
     },
     "execution_count": 11,
     "metadata": {},
     "output_type": "execute_result"
    }
   ],
   "source": [
    "model = AutoModel.from_pretrained(\"google-bert/bert-base-multilingual-cased\")\n",
    "model.eval()"
   ]
  },
  {
   "cell_type": "code",
   "execution_count": 12,
   "metadata": {},
   "outputs": [
    {
     "data": {
      "text/plain": [
       "tensor([[ 9.8065e-02,  1.6651e-01, -1.8939e-02, -2.7107e-01,  3.9282e-01,\n",
       "         -8.3709e-03, -2.7939e-01,  1.3728e-01, -2.7464e-01, -5.3179e-01,\n",
       "          7.3622e-03,  3.3644e-01,  3.8090e-01,  9.6592e-02,  1.8355e-01,\n",
       "         -1.5070e-01,  6.8820e-01, -1.9295e-01,  1.7938e-01,  2.5017e-01,\n",
       "         -1.7370e-01,  1.9678e-01, -6.1971e-01, -2.2688e-01,  1.1344e-01,\n",
       "         -5.1034e-01, -1.0806e-01,  9.6186e-02, -2.8496e-01, -5.4674e-01,\n",
       "          5.6678e-02,  7.4643e-01, -5.5679e-01,  5.7034e-01,  4.4453e-01,\n",
       "          4.0408e-01,  2.2320e-02, -1.7045e-01, -1.4676e-01,  1.3386e-01,\n",
       "         -4.0712e-02,  5.8999e-01, -6.7270e-02, -2.0161e-01,  1.0164e-01,\n",
       "         -6.6286e-02,  1.6539e-01,  5.3392e-01, -3.4604e-01,  1.0465e-01,\n",
       "          3.4864e-01, -1.0852e-01,  5.1674e-01, -1.1382e-01, -5.4173e-02,\n",
       "          1.7880e-01, -3.1697e-01, -3.7485e-01,  1.3706e-01,  1.4350e-01,\n",
       "          9.3529e-02,  2.2708e-02, -1.3421e-01, -6.5950e-02, -2.3739e-01,\n",
       "         -4.5314e-01,  2.2651e-01, -4.3788e-01, -8.4658e-01,  2.7837e-01,\n",
       "          8.6778e-02,  2.0360e-01,  1.7561e-01,  4.1142e-01, -3.4023e-01,\n",
       "          6.1600e-01, -3.3952e-01, -4.2965e-01, -4.2132e-01, -4.1646e-01,\n",
       "          6.4941e-02,  5.6694e-02, -1.5646e-01,  1.5468e-01, -1.7857e-01,\n",
       "          8.2255e-02, -5.1805e-01, -1.2261e-01,  1.5547e-01, -5.7750e-01,\n",
       "         -2.5881e-01, -3.4479e-01,  4.3880e-01,  4.0944e-01, -1.7443e-01,\n",
       "          6.4369e-01,  4.8431e-02,  1.6266e-03,  2.2188e-03,  3.3151e-01,\n",
       "         -2.0161e-01, -2.1890e-01,  1.4002e-01, -5.4694e-01, -2.1561e-01,\n",
       "         -1.3225e-01, -5.4873e-01,  4.4345e-02,  1.4478e-01,  1.4759e-01,\n",
       "          5.8964e-02,  1.8360e-01,  5.3193e-02,  1.5433e-01, -7.8067e-02,\n",
       "         -1.5321e-01, -4.8944e-01, -5.5195e-02,  6.0057e-01,  1.4160e-01,\n",
       "         -2.9585e-01, -3.3946e-01,  4.9173e-02,  4.8286e-01,  4.0162e-01,\n",
       "         -3.5221e-01, -4.9690e-01,  7.3103e-03,  9.6009e-02,  2.4175e-01,\n",
       "          2.2577e-01, -4.1735e-01, -1.2442e-01, -1.3042e-01, -2.2257e-01,\n",
       "         -2.5900e-01, -2.2108e-01,  2.9741e-01,  3.4507e-01,  1.0376e-01,\n",
       "         -4.6650e-01,  2.6015e-01, -2.4577e-01, -3.5076e-02, -3.5317e-01,\n",
       "         -3.4381e-01,  2.3629e-01,  6.1032e-01,  4.9395e-01, -8.6178e-01,\n",
       "          1.8929e-01, -5.5652e-02,  4.0105e-01,  3.7175e-02, -2.0884e-01,\n",
       "          2.2276e-01,  1.3529e-01, -2.0135e-01, -5.2000e-03,  6.7059e-01,\n",
       "          2.1055e-03,  2.4962e-01, -5.0027e-01,  9.9465e-01,  9.4268e-02,\n",
       "         -4.1112e-01,  8.6672e-02, -5.0828e-02, -1.9898e-01,  6.8465e-02,\n",
       "         -6.4689e-01, -6.0423e-01, -9.2970e-01,  1.4874e-02,  4.3799e-01,\n",
       "         -1.1949e-01, -1.2044e-02, -2.2841e-01,  4.2529e-01,  1.5620e-01,\n",
       "         -6.8936e-01, -4.6290e-02,  1.3946e-01, -1.1665e-01, -2.8102e-02,\n",
       "          1.3527e-01,  6.2809e-02,  2.3547e-01, -5.1001e-01, -7.7209e-01,\n",
       "          1.3290e-01,  9.5375e-02,  2.9066e-01, -4.3587e-01,  9.0279e-03,\n",
       "          4.6901e-01,  7.5833e-01,  5.6263e-02,  1.7931e-01,  1.9021e-01,\n",
       "         -7.4759e-02, -5.1649e-02, -4.0611e-01, -2.3859e-01, -1.5973e-01,\n",
       "          9.0931e-01, -6.1066e-01, -1.5417e-01, -2.2018e-01,  2.4430e-01,\n",
       "         -4.6102e-01,  4.6156e-02,  3.4793e-01, -9.3952e-02, -1.6052e-01,\n",
       "          1.9246e-01,  2.8073e-01,  1.0723e-01,  1.6904e-01,  1.0637e-01,\n",
       "          3.9435e-01, -3.5396e-01, -1.2585e-01,  3.9591e-02, -8.2818e-02,\n",
       "         -1.3011e-01,  3.7631e-02,  1.7921e-01, -1.8774e-01, -5.4412e-01,\n",
       "          5.9488e-01, -4.1417e-01, -5.2627e-01,  6.7503e-01,  2.8707e-02,\n",
       "         -1.7018e-01,  1.3605e-02,  1.7576e-01, -2.1239e-01, -5.9979e-01,\n",
       "         -1.0498e-01,  4.0238e-01, -4.5541e-01,  2.1866e-01,  8.8131e-02,\n",
       "          3.5793e-01, -1.8452e-01,  3.5884e-01, -4.3225e-01,  9.8195e-02,\n",
       "         -1.3934e-02, -3.2221e-01, -3.4296e-01,  7.0483e-02,  2.8540e-01,\n",
       "         -5.5012e-02,  5.4410e-02, -2.7772e-01,  2.9508e-01, -7.5046e-01,\n",
       "          1.7950e-01,  6.9219e-01,  1.4352e-02,  3.1374e-01, -2.8103e-01,\n",
       "         -4.6285e-02,  1.6500e-01,  2.9526e-01, -5.2667e-02, -1.1500e-01,\n",
       "          4.3071e-02,  2.1461e-01, -4.3604e-02,  6.2479e-01, -2.2313e-01,\n",
       "          2.8965e-01, -1.9558e-01, -1.5415e-01, -8.0304e-01,  1.7793e-01,\n",
       "         -1.0235e-01,  4.3611e-01,  3.8394e-01,  4.2605e-01,  1.3737e-01,\n",
       "         -1.7751e-01,  1.8879e-01, -9.4682e-02,  3.2971e-01, -1.5894e-01,\n",
       "         -6.2855e-01, -6.7283e-01, -4.0071e-02, -2.9861e-01, -3.6041e-01,\n",
       "         -6.6907e-02, -1.4939e-01, -5.1266e-01,  1.7948e-01, -2.5642e-01,\n",
       "          2.7349e-01,  1.4804e-01, -3.5130e-01,  5.4208e-02, -1.6876e-02,\n",
       "          4.4551e-02, -1.1224e-01, -2.1737e-01,  5.8890e-01,  5.3300e-02,\n",
       "         -1.6875e-01,  3.9857e-01, -1.8542e-01,  2.7150e-01, -4.6378e-01,\n",
       "          2.8783e-01,  1.6760e-01,  4.4782e-01, -2.6644e-02,  3.1794e-01,\n",
       "         -4.8358e-01, -4.0890e-02,  3.0009e-01,  3.2846e-01, -3.4398e-02,\n",
       "          3.8446e-02, -1.4461e-01,  6.7980e-02,  1.0295e-01,  8.1392e-02,\n",
       "         -2.3297e-01,  1.4920e+00,  8.0229e-03,  2.1760e-02, -5.2131e-01,\n",
       "          1.1911e-01, -4.8756e-02, -4.0069e-01,  3.9283e-01, -8.7761e-02,\n",
       "          1.3534e-01, -7.9073e-01,  5.4316e-01, -1.2845e-02,  2.1560e-01,\n",
       "         -4.9522e-01,  7.7275e-02,  1.0352e-01,  2.2466e-01, -3.3135e-01,\n",
       "          5.9300e-01,  2.2213e-01,  1.8606e-01, -2.4906e-01,  7.4176e-01,\n",
       "         -3.6075e-01, -1.5326e-01,  2.7293e-01,  2.5372e-01,  4.6848e-01,\n",
       "          4.5406e-01,  1.2060e-01, -1.0121e-01,  2.1362e-01, -1.9790e-01,\n",
       "          7.7622e-02,  3.0154e-01, -6.0794e-01,  1.5186e-01,  2.3008e-01,\n",
       "          5.5301e-01,  9.2129e-01, -5.5898e-01, -7.6583e-01,  6.1671e-02,\n",
       "          5.0683e-01,  2.3833e-02, -8.3843e-01,  6.2243e-01,  3.1539e-01,\n",
       "          7.4538e-01, -1.5223e-01,  5.1037e-01, -4.1018e-01, -2.2532e-01,\n",
       "          9.4424e-02, -3.3040e-01,  2.8846e-01,  6.4078e-01, -5.5976e-02,\n",
       "          4.4897e-01,  2.5766e-01, -2.3046e-01,  2.5005e-01, -1.8457e-02,\n",
       "         -4.0981e-02,  1.7769e-02,  4.8187e-01, -6.5723e-01,  3.3090e-01,\n",
       "          2.6301e-01,  2.1997e-01,  7.2132e-01,  2.6395e-01, -5.3854e-01,\n",
       "          1.1089e-01,  4.4264e-01,  6.1499e-01, -6.2719e-03, -2.0831e-02,\n",
       "         -1.1434e-01,  5.6922e-02,  2.8306e-01,  1.0980e+00,  1.4358e-01,\n",
       "          3.5898e-01, -9.1492e-03, -1.8738e-01,  7.8005e-02,  3.1646e-01,\n",
       "         -4.9560e-03,  2.8965e-01,  1.0888e-02, -2.2260e+00, -4.1129e-01,\n",
       "          1.8731e-01, -2.0167e-02, -1.5887e-01, -6.2239e-01, -4.2273e-01,\n",
       "         -4.4963e-01,  3.3658e-01,  1.5973e-01,  2.4476e-01,  2.2050e-01,\n",
       "         -2.2157e-01, -4.4830e-01, -3.1438e-01, -2.6041e-01,  3.6632e-01,\n",
       "         -3.3961e-01, -7.0592e-02, -1.2996e-01,  3.3200e-01, -2.3118e-01,\n",
       "          1.0887e-04,  4.2358e-01, -2.0402e-01,  1.0951e-02,  5.0706e-02,\n",
       "         -6.8962e-02, -1.5307e+00, -2.3090e-02, -3.3947e-01,  4.6393e-02,\n",
       "         -4.2374e-01, -4.3024e-01,  1.0169e-01,  1.2613e-01, -7.2653e-01,\n",
       "          2.6153e-01, -4.6717e-01, -9.1752e-03, -1.0126e-01, -3.6150e-01,\n",
       "         -6.1784e-03,  7.3891e-02, -1.3408e-01, -2.6510e-01,  9.8601e-01,\n",
       "         -2.4300e-01,  3.3350e-01, -2.1179e-01,  2.0268e-01, -9.3906e-01,\n",
       "          4.2257e-01,  3.0786e-02, -7.1630e-02,  9.7592e-02, -1.9802e-02,\n",
       "          2.8139e-01,  3.8645e-02,  5.0387e-01, -1.5491e-02,  2.2585e-01,\n",
       "          1.7944e-01,  1.5372e-01, -3.9534e-01, -2.7875e-01,  1.0731e-01,\n",
       "          3.2642e-01,  6.8914e-02, -8.6525e-02, -8.8714e-01, -5.2322e-01,\n",
       "         -1.0001e-02, -4.5234e-01, -4.8928e-02,  4.1080e-01, -3.0141e-01,\n",
       "         -3.4252e-01,  2.4583e-01, -3.8156e-01, -2.0991e-01, -1.2745e-02,\n",
       "         -5.8116e-01, -5.5993e-01,  6.0183e-01, -4.1333e-01, -7.4070e-02,\n",
       "          1.6050e-01, -1.0404e+00,  2.4744e-01,  5.3373e-01, -2.3516e-01,\n",
       "          1.6765e-01,  7.8384e-02, -8.4903e-01, -2.3663e-01, -1.4936e-01,\n",
       "          1.5394e-01,  5.8668e-01,  9.2346e-01, -3.4673e-01, -3.7984e-01,\n",
       "         -2.6990e-01, -4.2917e-01, -4.9694e-02, -4.4735e-02,  1.9156e-01,\n",
       "          1.1424e-01,  2.6640e-01, -5.2930e-01,  3.3609e-01, -2.5749e-01,\n",
       "          6.6473e-01, -3.4367e-02, -4.3924e-01, -4.7076e-01,  5.9430e-01,\n",
       "          4.2345e-01, -1.4441e-01, -1.8084e-01,  3.2023e-01,  1.9692e-01,\n",
       "          9.2803e-01,  1.5761e-01, -2.4217e-02, -1.6162e-01, -3.6962e-01,\n",
       "         -3.0361e-01,  4.3117e-01, -5.0826e-02,  3.1707e-01, -3.0288e-01,\n",
       "         -1.1388e-01,  3.2532e-01,  2.1069e-01, -1.8791e-01,  5.3884e-01,\n",
       "         -6.1795e-02,  4.4813e-01, -1.5944e-01, -3.2858e-01,  8.5475e-02,\n",
       "         -1.9598e-01, -1.4421e-01,  5.6863e-01, -1.0891e-01,  1.3004e-01,\n",
       "         -3.3822e-01,  4.3775e-01,  5.0901e-02,  1.1436e-01, -4.4898e-01,\n",
       "         -1.8037e-01, -5.2525e-01,  5.0866e-02,  3.5280e-01,  3.7896e-02,\n",
       "          5.9789e-01, -5.9916e-01,  9.6190e-02,  1.6201e-01,  2.9269e-01,\n",
       "         -3.0768e-01, -2.7567e-01,  4.2146e-01, -5.7195e-01,  2.1917e-01,\n",
       "          9.5187e-04, -1.6421e-01,  2.8535e-01, -4.1483e-01, -2.2425e-01,\n",
       "          2.5106e-01,  2.8080e-01, -2.8506e-01,  4.5699e-01,  1.3795e-01,\n",
       "         -2.1028e-03, -3.4274e-01,  2.3454e-01, -6.3783e-01, -7.2976e-01,\n",
       "          4.1919e-01, -1.3781e-02, -7.3128e-02, -1.2413e+00, -1.9372e-01,\n",
       "          2.3251e-01,  4.1598e-02,  3.6380e-01, -4.3546e-01, -3.1115e-01,\n",
       "         -5.8514e-01, -6.5961e-01,  3.7736e-01,  3.0252e-01, -4.8533e-01,\n",
       "          5.0373e-01,  2.6649e-01,  3.2326e-01,  1.8456e-01, -3.7473e-01,\n",
       "          3.6810e-02,  1.1031e-01, -1.1450e-01,  1.9993e-01, -1.9516e-01,\n",
       "         -3.4597e-01, -5.7893e-01,  2.9065e-01,  1.1658e-01,  5.5721e-02,\n",
       "          2.5186e-01, -4.2380e-02, -2.6511e-01,  3.8983e-01,  1.3671e-01,\n",
       "         -2.8766e-01,  1.8920e-01,  1.4663e-01, -6.0824e-01, -1.7734e-01,\n",
       "         -1.8264e-01, -1.2504e-01,  7.5476e-02, -1.2824e+00, -1.1196e-01,\n",
       "          8.1616e-02,  6.8255e-02, -6.7231e-03,  1.3402e-01, -1.7597e-02,\n",
       "          2.2640e-01, -1.6068e-01,  3.1225e-02, -4.7170e-01,  4.6730e-01,\n",
       "          5.2810e-01,  2.7803e-01,  1.8427e-01, -7.1718e-03,  2.3955e-01,\n",
       "          3.3143e-01, -5.9027e-01,  1.5097e-01,  2.1757e-01, -5.5833e-02,\n",
       "         -2.4632e-01,  6.1255e-01,  3.0266e-01,  7.2096e-02,  8.4951e-01,\n",
       "          1.1142e-01, -2.0407e-01, -2.5466e-02,  2.5982e-01,  4.8513e-01,\n",
       "         -1.2939e-01,  6.4127e-01,  4.9566e-01,  3.4054e-01, -2.4162e-02,\n",
       "          4.9868e-01,  1.7584e-01,  2.9144e-01, -1.2824e-01, -3.2435e-01,\n",
       "         -1.4628e-01,  1.6247e-03, -2.7492e-01, -4.0985e-01, -1.5426e-01,\n",
       "          1.1519e+00,  3.3229e-02,  3.4443e-01,  5.0922e-01, -2.7491e-01,\n",
       "          9.5908e-02, -6.9803e-02,  2.7108e-01, -5.8247e-01, -4.8017e-02,\n",
       "         -8.5383e-02, -8.4161e-02, -3.0351e-01,  2.7538e-01, -6.1084e-02,\n",
       "          3.9628e-01, -1.5698e-01,  3.5916e-01,  2.1786e-01,  5.3863e-02,\n",
       "         -5.3796e-02,  2.0382e-01, -3.5535e-01, -3.5851e-01,  5.9753e-01,\n",
       "         -1.5568e-01,  5.5781e-01, -2.9454e-01, -3.1425e-01, -3.8771e-02,\n",
       "          3.7518e-01,  4.1834e-01, -3.6840e-02, -3.4143e-02, -3.3733e-01,\n",
       "         -3.4116e-02, -2.0507e+00,  3.8877e-01, -2.2296e-01,  1.0421e-01,\n",
       "         -2.7753e-01, -1.0460e-01,  3.5309e-01, -3.1090e-01, -3.6964e-02,\n",
       "         -1.9030e-01, -7.0812e-01,  6.7571e-02, -9.6962e-02, -2.9551e-02,\n",
       "          2.5339e-01,  4.8266e-01,  1.1715e-01, -2.1015e-01, -8.8955e-01,\n",
       "         -1.2836e-01,  3.9133e-02,  4.1498e-01, -1.0110e-01,  2.9146e-01,\n",
       "          6.8375e-02, -9.2401e-02, -1.1539e-01, -8.0390e-02, -5.3152e-02,\n",
       "         -3.2379e-01, -7.4814e-01,  8.0554e-02, -1.4857e-01,  3.8970e-01,\n",
       "          8.1799e-01,  2.9496e-01, -4.2403e-01]], grad_fn=<MeanBackward1>)"
      ]
     },
     "execution_count": 12,
     "metadata": {},
     "output_type": "execute_result"
    }
   ],
   "source": [
    "encoded_input = tokenizer(data['short_description'][0], return_tensors='pt')\n",
    "output = model(**encoded_input)\n",
    "output.last_hidden_state.mean(dim=1) # mean pooling of embeddings on last hidden layer"
   ]
  },
  {
   "cell_type": "code",
   "execution_count": 28,
   "metadata": {},
   "outputs": [],
   "source": [
    "def embed(text: str):\n",
    "    tokens = tokenizer(text, return_tensors='pt')\n",
    "    output = model(**tokens)\n",
    "    return output.last_hidden_state.mean(dim=1).tolist()[0]"
   ]
  },
  {
   "cell_type": "code",
   "execution_count": 29,
   "metadata": {},
   "outputs": [],
   "source": [
    "embeddings = [embed(s) for s in data['short_description']]"
   ]
  },
  {
   "cell_type": "code",
   "execution_count": 30,
   "metadata": {},
   "outputs": [],
   "source": [
    "pandas.DataFrame(embeddings).to_csv(\"embed_bert.csv\")"
   ]
  },
  {
   "cell_type": "code",
   "execution_count": null,
   "metadata": {},
   "outputs": [],
   "source": []
  }
 ],
 "metadata": {
  "kernelspec": {
   "display_name": "env",
   "language": "python",
   "name": "python3"
  },
  "language_info": {
   "codemirror_mode": {
    "name": "ipython",
    "version": 3
   },
   "file_extension": ".py",
   "mimetype": "text/x-python",
   "name": "python",
   "nbconvert_exporter": "python",
   "pygments_lexer": "ipython3",
   "version": "3.9.4"
  }
 },
 "nbformat": 4,
 "nbformat_minor": 2
}
