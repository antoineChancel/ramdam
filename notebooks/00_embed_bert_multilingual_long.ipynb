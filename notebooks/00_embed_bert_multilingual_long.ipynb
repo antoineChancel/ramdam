{
 "cells": [
  {
   "cell_type": "code",
   "execution_count": 1,
   "metadata": {},
   "outputs": [
    {
     "name": "stderr",
     "output_type": "stream",
     "text": [
      "/Users/achancel/Projects/ramdam/env/lib/python3.9/site-packages/tqdm/auto.py:21: TqdmWarning: IProgress not found. Please update jupyter and ipywidgets. See https://ipywidgets.readthedocs.io/en/stable/user_install.html\n",
      "  from .autonotebook import tqdm as notebook_tqdm\n"
     ]
    }
   ],
   "source": [
    "import pandas\n",
    "import torch\n",
    "from transformers import AutoModel, AutoTokenizer"
   ]
  },
  {
   "cell_type": "code",
   "execution_count": 2,
   "metadata": {},
   "outputs": [],
   "source": [
    "data = pandas.read_csv(\"data_clean.csv\")"
   ]
  },
  {
   "cell_type": "code",
   "execution_count": 3,
   "metadata": {},
   "outputs": [],
   "source": [
    "tokenizer = AutoTokenizer.from_pretrained(\"google-bert/bert-base-multilingual-cased\")"
   ]
  },
  {
   "cell_type": "code",
   "execution_count": 4,
   "metadata": {},
   "outputs": [
    {
     "name": "stderr",
     "output_type": "stream",
     "text": [
      "Token indices sequence length is longer than the specified maximum sequence length for this model (538 > 512). Running this sequence through the model will result in indexing errors\n"
     ]
    }
   ],
   "source": [
    "tok = [tokenizer.encode(s) for s in data['long_description']]"
   ]
  },
  {
   "cell_type": "code",
   "execution_count": 5,
   "metadata": {},
   "outputs": [],
   "source": [
    "inv_vocab = {v: k for k, v in tokenizer.vocab.items()}"
   ]
  },
  {
   "cell_type": "code",
   "execution_count": 6,
   "metadata": {},
   "outputs": [
    {
     "data": {
      "text/plain": [
       "['[CLS]',\n",
       " 'Safe',\n",
       " '##e',\n",
       " 'aims',\n",
       " 'to',\n",
       " 'provide',\n",
       " 'a',\n",
       " 'safety',\n",
       " 'net',\n",
       " 'for',\n",
       " 'your',\n",
       " 'family',\n",
       " 'with',\n",
       " '360',\n",
       " '##°',\n",
       " 'security',\n",
       " '.',\n",
       " 'With',\n",
       " 'disc',\n",
       " '##ree',\n",
       " '##t',\n",
       " 'ale',\n",
       " '##rts',\n",
       " ',',\n",
       " 'real',\n",
       " '-',\n",
       " 'time',\n",
       " 'tracking',\n",
       " ',',\n",
       " 'and',\n",
       " 'live',\n",
       " 'video',\n",
       " 'streaming',\n",
       " 'on',\n",
       " 'demand',\n",
       " ',',\n",
       " 'you',\n",
       " 'can',\n",
       " 'always',\n",
       " 'keep',\n",
       " 'an',\n",
       " 'eye',\n",
       " 'on',\n",
       " 'your',\n",
       " 'loved',\n",
       " 'ones',\n",
       " '.',\n",
       " 'In',\n",
       " 'case',\n",
       " 'of',\n",
       " 'emerge',\n",
       " '##ncies',\n",
       " ',',\n",
       " 'Safe',\n",
       " '##e',\n",
       " \"'\",\n",
       " 's',\n",
       " 'ge',\n",
       " '##olo',\n",
       " '##cation',\n",
       " 'feature',\n",
       " 'allows',\n",
       " 'for',\n",
       " 's',\n",
       " '##wi',\n",
       " '##ft',\n",
       " 'action',\n",
       " '.',\n",
       " 'It',\n",
       " \"'\",\n",
       " 's',\n",
       " 'more',\n",
       " 'than',\n",
       " 'an',\n",
       " 'app',\n",
       " ',',\n",
       " 'it',\n",
       " \"'\",\n",
       " 's',\n",
       " 'a',\n",
       " 'guardia',\n",
       " '##n',\n",
       " 'ang',\n",
       " '##el',\n",
       " 'keeping',\n",
       " 'watch',\n",
       " 'over',\n",
       " 'your',\n",
       " 'family',\n",
       " ',',\n",
       " 'ens',\n",
       " '##uring',\n",
       " 'their',\n",
       " 'safety',\n",
       " ',',\n",
       " 'and',\n",
       " 'providing',\n",
       " 'you',\n",
       " 'with',\n",
       " 'the',\n",
       " 'necessary',\n",
       " 'proof',\n",
       " 'to',\n",
       " 'ensure',\n",
       " 'their',\n",
       " 'protection',\n",
       " '.',\n",
       " '[SEP]']"
      ]
     },
     "execution_count": 6,
     "metadata": {},
     "output_type": "execute_result"
    }
   ],
   "source": [
    "sentence_id = 330\n",
    "[inv_vocab[t] for t in tok[sentence_id]]"
   ]
  },
  {
   "cell_type": "code",
   "execution_count": 7,
   "metadata": {},
   "outputs": [
    {
     "name": "stdout",
     "output_type": "stream",
     "text": [
      "122.74285714285715\n"
     ]
    },
    {
     "data": {
      "text/plain": [
       "(array([162., 341.,  50.,  15.,  12.,   5.,   1.,   2.,   3.,   1.,   1.,\n",
       "          0.,   0.,   0.,   0.,   0.,   0.,   0.,   1.,   1.]),\n",
       " array([   8.  ,   80.65,  153.3 ,  225.95,  298.6 ,  371.25,  443.9 ,\n",
       "         516.55,  589.2 ,  661.85,  734.5 ,  807.15,  879.8 ,  952.45,\n",
       "        1025.1 , 1097.75, 1170.4 , 1243.05, 1315.7 , 1388.35, 1461.  ]),\n",
       " <BarContainer object of 20 artists>)"
      ]
     },
     "execution_count": 7,
     "metadata": {},
     "output_type": "execute_result"
    },
    {
     "data": {
      "image/png": "[encoded data removed]",
      "text/plain": [
       "<Figure size 640x480 with 1 Axes>"
      ]
     },
     "metadata": {},
     "output_type": "display_data"
    }
   ],
   "source": [
    "# token number\n",
    "tok_len = [len(t) for t in tok]\n",
    "# average number of tokens per description\n",
    "print(sum(tok_len) / len(tok_len))\n",
    "import matplotlib.pyplot as plt\n",
    "plt.hist(tok_len, bins=20)"
   ]
  },
  {
   "cell_type": "code",
   "execution_count": 8,
   "metadata": {},
   "outputs": [
    {
     "data": {
      "text/plain": [
       "BertModel(\n",
       "  (embeddings): BertEmbeddings(\n",
       "    (word_embeddings): Embedding(119547, 768, padding_idx=0)\n",
       "    (position_embeddings): Embedding(512, 768)\n",
       "    (token_type_embeddings): Embedding(2, 768)\n",
       "    (LayerNorm): LayerNorm((768,), eps=1e-12, elementwise_affine=True)\n",
       "    (dropout): Dropout(p=0.1, inplace=False)\n",
       "  )\n",
       "  (encoder): BertEncoder(\n",
       "    (layer): ModuleList(\n",
       "      (0-11): 12 x BertLayer(\n",
       "        (attention): BertAttention(\n",
       "          (self): BertSdpaSelfAttention(\n",
       "            (query): Linear(in_features=768, out_features=768, bias=True)\n",
       "            (key): Linear(in_features=768, out_features=768, bias=True)\n",
       "            (value): Linear(in_features=768, out_features=768, bias=True)\n",
       "            (dropout): Dropout(p=0.1, inplace=False)\n",
       "          )\n",
       "          (output): BertSelfOutput(\n",
       "            (dense): Linear(in_features=768, out_features=768, bias=True)\n",
       "            (LayerNorm): LayerNorm((768,), eps=1e-12, elementwise_affine=True)\n",
       "            (dropout): Dropout(p=0.1, inplace=False)\n",
       "          )\n",
       "        )\n",
       "        (intermediate): BertIntermediate(\n",
       "          (dense): Linear(in_features=768, out_features=3072, bias=True)\n",
       "          (intermediate_act_fn): GELUActivation()\n",
       "        )\n",
       "        (output): BertOutput(\n",
       "          (dense): Linear(in_features=3072, out_features=768, bias=True)\n",
       "          (LayerNorm): LayerNorm((768,), eps=1e-12, elementwise_affine=True)\n",
       "          (dropout): Dropout(p=0.1, inplace=False)\n",
       "        )\n",
       "      )\n",
       "    )\n",
       "  )\n",
       "  (pooler): BertPooler(\n",
       "    (dense): Linear(in_features=768, out_features=768, bias=True)\n",
       "    (activation): Tanh()\n",
       "  )\n",
       ")"
      ]
     },
     "execution_count": 8,
     "metadata": {},
     "output_type": "execute_result"
    }
   ],
   "source": [
    "model = AutoModel.from_pretrained(\"google-bert/bert-base-multilingual-cased\")\n",
    "model.eval()"
   ]
  },
  {
   "cell_type": "code",
   "execution_count": 9,
   "metadata": {},
   "outputs": [
    {
     "data": {
      "text/plain": [
       "tensor([[-1.8858e-01,  2.7632e-02,  8.0417e-02, -3.3136e-01,  5.4700e-01,\n",
       "          1.7350e-01,  1.3898e-01,  5.9724e-02, -2.2447e-01, -6.4898e-01,\n",
       "         -2.2211e-01,  1.9843e-01,  5.5165e-01,  3.0771e-01,  1.2231e-01,\n",
       "         -3.5326e-01,  6.7641e-01, -6.7048e-01,  4.0481e-03,  1.5847e-01,\n",
       "         -2.7329e-01, -1.3481e-01, -3.8077e-01, -2.7998e-01, -1.1754e-01,\n",
       "         -2.4666e-01, -3.0812e-01, -3.8657e-01, -4.5515e-01, -4.2584e-01,\n",
       "          2.9146e-01,  5.1446e-01, -3.4934e-01,  5.6106e-01,  1.1160e-01,\n",
       "          3.3816e-01,  2.8088e-01, -1.9676e-01, -1.4840e-03,  4.5612e-01,\n",
       "          3.4536e-01,  4.7051e-01,  3.5276e-01, -3.3406e-01,  1.4987e-01,\n",
       "         -8.9683e-02,  5.0117e-01,  3.2890e-01, -3.4583e-01,  1.6384e-01,\n",
       "          1.2662e-01, -2.3906e-01,  8.3684e-01,  8.0294e-02,  5.3029e-02,\n",
       "          1.2925e-01,  7.0008e-02, -2.9379e-01,  2.5225e-01, -2.1916e-01,\n",
       "          2.8201e-02,  8.8302e-02, -3.6769e-02, -2.2046e-01, -2.9162e-01,\n",
       "         -6.4649e-01,  2.8229e-01, -6.3405e-01, -1.0997e-01,  1.3791e-01,\n",
       "         -2.2666e-01,  2.8011e-01,  1.1209e-01,  1.7614e-01, -1.1342e-01,\n",
       "          1.0268e+00, -5.0531e-02, -2.1754e-01, -1.1677e+00, -3.4666e-01,\n",
       "         -2.4998e-01,  2.0233e-01, -2.2876e-01, -1.8734e-01, -3.0282e-01,\n",
       "          3.1112e-01, -3.1300e-01, -7.7559e-04,  8.0922e-02, -7.4195e-01,\n",
       "         -4.4389e-01, -2.3035e-01,  3.8278e-01,  5.6364e-01, -3.3063e-01,\n",
       "          8.7283e-01,  2.0698e-01,  4.9847e-02, -1.2006e-01, -1.0352e-01,\n",
       "          1.0136e-02, -1.9199e-01,  4.7090e-01, -4.3299e-01,  1.6845e-01,\n",
       "          5.1335e-02, -3.0370e-01,  3.7167e-01,  1.7924e-01,  3.5299e-01,\n",
       "         -9.3973e-02,  1.3158e-01, -4.5841e-02,  2.5412e-01,  4.0396e-01,\n",
       "         -4.4619e-01,  7.9836e-02, -2.0879e-01,  4.5315e-01,  1.7418e-01,\n",
       "         -6.8350e-02, -5.0800e-02, -2.7094e-01,  6.5385e-01,  5.7157e-01,\n",
       "         -3.2173e-01, -2.6884e-01,  5.2252e-02,  3.1137e-01,  3.4043e-01,\n",
       "          4.3655e-01, -5.7147e-01, -7.3977e-02, -4.4629e-01, -7.2029e-02,\n",
       "         -2.9787e-01, -2.5766e-01, -1.3004e-01,  1.7841e-01,  6.4387e-02,\n",
       "         -3.5177e-01,  3.7710e-01,  1.6103e-01,  2.7244e-02, -4.0781e-01,\n",
       "         -1.5361e-01,  4.5973e-01,  9.7577e-01,  3.8975e-01, -7.0741e-01,\n",
       "          2.9336e-01,  5.3356e-01,  5.0909e-01, -3.3628e-02, -7.3144e-01,\n",
       "          2.3624e-01,  7.9307e-02, -2.4447e-01, -2.1193e-01,  2.7993e-02,\n",
       "         -8.4752e-02,  4.0946e-01, -6.9814e-01,  1.0669e+00, -5.8637e-02,\n",
       "         -2.9799e-01, -1.9760e-01,  1.7979e-01, -3.6921e-03,  2.1917e-01,\n",
       "         -1.3754e-01, -1.6326e-01, -4.9042e-01,  8.0528e-02,  4.5025e-01,\n",
       "          2.2739e-01,  1.2808e-01,  2.2323e-02,  6.9252e-02, -3.6882e-01,\n",
       "         -1.0146e+00, -1.7939e-01, -1.2326e-01, -3.5790e-01,  1.3406e-01,\n",
       "          3.5582e-01,  2.1334e-01, -3.0983e-01, -5.1369e-01, -7.1997e-01,\n",
       "          1.8533e-01,  1.2934e-01,  1.3186e-01, -1.9755e-01, -1.4280e-01,\n",
       "          5.9360e-01,  5.0231e-01,  1.4182e-01, -5.9428e-02,  1.2024e-01,\n",
       "         -1.6771e-01, -3.1879e-01, -2.9317e-01, -1.8246e-01, -1.8671e-01,\n",
       "          6.4994e-01, -1.5465e-01, -5.0354e-02,  1.1024e-01,  4.6458e-01,\n",
       "         -3.6141e-02,  5.0650e-01,  3.9178e-01, -2.2896e-01, -6.8841e-02,\n",
       "          2.3481e-01, -1.1235e-03,  1.2624e-03,  4.3183e-01,  1.9346e-01,\n",
       "          2.8197e-01, -6.6853e-01, -4.0759e-01, -2.4793e-01, -4.1196e-02,\n",
       "         -9.9192e-02,  2.7759e-01,  4.1842e-01, -8.8959e-02, -4.3535e-01,\n",
       "          7.7767e-01, -3.2965e-01, -2.9854e-01,  6.3335e-01,  2.6643e-03,\n",
       "         -4.8271e-01,  1.5297e-01,  8.4482e-02, -2.5028e-01, -6.9150e-01,\n",
       "         -3.8150e-01,  1.8518e-01, -1.4720e-01,  2.2200e-01,  2.1034e-01,\n",
       "          1.6625e-01, -3.5193e-01, -5.2291e-02, -1.7014e-01,  1.6573e-01,\n",
       "         -1.8754e-01, -1.2845e-01, -5.4156e-01,  7.2087e-02,  4.6424e-01,\n",
       "          2.6584e-01,  1.1497e-01, -3.4870e-01,  3.7120e-01, -5.9750e-01,\n",
       "          4.4102e-01,  2.1920e-01, -4.3699e-02,  5.4492e-01,  1.0337e-01,\n",
       "          1.6352e-01, -2.3420e-01,  4.8361e-01, -1.8768e-01, -8.3255e-02,\n",
       "          4.0712e-01,  3.7541e-01,  1.7806e-01,  3.1408e-01,  2.4647e-02,\n",
       "          1.3097e-01, -3.2501e-01,  2.3234e-01, -8.1706e-01,  4.4060e-01,\n",
       "          1.3686e-02,  1.4837e-01,  2.3441e-01,  2.8063e-01,  3.1291e-02,\n",
       "          8.0662e-02,  2.5714e-01, -2.2391e-01,  2.6460e-01, -9.7969e-02,\n",
       "         -1.9385e-01, -9.0171e-01,  1.6016e-01, -1.6457e-01, -1.6573e-01,\n",
       "         -1.0827e-01, -4.7225e-01, -4.2854e-01, -1.3897e-01, -3.5528e-01,\n",
       "          5.8636e-01,  3.5761e-01, -5.9534e-01,  1.3298e-01, -2.0533e-01,\n",
       "          5.6647e-01, -2.4473e-02, -6.4072e-01,  7.6667e-01,  2.6309e-03,\n",
       "         -4.7214e-01,  6.5584e-01, -5.0084e-01,  3.9428e-01, -1.1235e-01,\n",
       "         -2.7971e-02,  3.6618e-01,  2.6058e-02, -5.1239e-01,  4.4899e-01,\n",
       "         -6.0641e-01,  7.8853e-02, -8.6966e-02,  4.1202e-01, -5.5546e-01,\n",
       "          1.9145e-01, -8.1548e-02, -2.0724e-01,  1.0066e-01, -1.3691e-01,\n",
       "         -8.2862e-02,  1.2684e+00,  5.0238e-02,  8.5410e-02, -1.6568e-01,\n",
       "         -3.0671e-01, -8.7473e-02, -4.2590e-01, -4.2101e-02, -1.6710e-01,\n",
       "         -7.6382e-02, -9.6964e-01,  8.7192e-01,  3.5922e-02,  2.7437e-01,\n",
       "         -3.7713e-01, -2.6850e-02,  6.9481e-02, -9.8428e-02, -4.5282e-01,\n",
       "          4.5425e-01,  6.3175e-02,  2.2501e-01, -3.0227e-02,  8.1234e-01,\n",
       "         -1.9964e-01, -5.3692e-01, -8.9789e-02,  3.1510e-01,  3.5055e-01,\n",
       "          5.3113e-01,  1.2712e-01, -1.8068e-01,  3.7860e-01, -1.3408e-01,\n",
       "          9.8121e-02, -1.8495e-01, -8.0889e-01,  1.2863e-01,  4.1724e-01,\n",
       "          5.3566e-01,  9.2504e-01, -7.1380e-01, -1.3679e+00,  1.3000e-01,\n",
       "          8.5566e-02, -6.4037e-04, -9.2251e-01,  7.3574e-01,  4.5245e-01,\n",
       "          7.1265e-01, -1.3785e-01,  6.1535e-01, -3.7807e-01, -1.0495e-01,\n",
       "         -1.5034e-01, -2.0512e-02,  1.0527e-01,  7.0282e-01, -2.7932e-01,\n",
       "          4.6299e-01,  4.8107e-01, -2.0853e-01, -3.2553e-02, -1.7166e-01,\n",
       "         -1.3298e-01,  9.5731e-02,  5.4175e-01, -4.9471e-01,  1.3235e-01,\n",
       "          9.4485e-02,  1.6309e-01,  6.0791e-01,  4.7306e-01, -6.5112e-01,\n",
       "          1.0081e-01,  2.9744e-01,  4.6373e-01, -2.8149e-01,  1.2837e-01,\n",
       "         -1.0919e-01,  2.6195e-01,  3.5356e-01,  7.0246e-01,  3.6174e-01,\n",
       "          2.2059e-01, -1.4644e-01, -4.0043e-01, -1.0573e-01,  6.4551e-02,\n",
       "         -2.3527e-02,  2.2353e-01,  1.2347e-01, -2.2135e+00, -7.2787e-02,\n",
       "          3.0063e-01, -4.3678e-01,  7.4473e-04, -4.3694e-01, -4.8171e-01,\n",
       "         -5.2712e-01, -9.9732e-02,  7.1702e-02,  8.7807e-02,  3.1946e-01,\n",
       "         -2.2889e-01, -3.9286e-01, -5.0759e-01, -4.1611e-01,  1.7431e-01,\n",
       "          2.6028e-02,  1.4825e-01, -2.2061e-01,  2.0790e-01, -4.5528e-01,\n",
       "          9.6049e-02,  3.6488e-01, -3.8407e-01, -6.9399e-02, -1.1411e-01,\n",
       "          3.4134e-01, -1.4314e+00, -1.8272e-01, -2.8423e-01,  3.0901e-01,\n",
       "         -2.8379e-01, -5.3726e-01,  1.7745e-01,  3.3207e-01, -3.9702e-01,\n",
       "          5.7703e-02, -3.2440e-01, -1.3735e-01, -4.7152e-01, -3.7537e-01,\n",
       "         -2.5105e-01,  3.0863e-01,  1.4591e-01, -3.9758e-02,  6.6841e-01,\n",
       "         -5.4675e-01,  1.8177e-01, -9.7200e-02,  1.3421e-01, -9.0511e-01,\n",
       "          3.5501e-01,  1.7855e-01, -1.0731e-01,  4.3056e-01,  2.9423e-01,\n",
       "          1.7227e-01, -2.9782e-01,  8.9907e-01, -7.1104e-02, -3.1445e-02,\n",
       "          9.2245e-02,  3.9100e-01, -1.3387e-01,  8.1810e-02, -3.4480e-02,\n",
       "          3.0055e-01, -8.0275e-02, -1.7214e-01, -1.0179e+00, -4.9851e-01,\n",
       "          2.7428e-01,  3.2694e-02, -9.1158e-01,  3.7548e-01, -4.3722e-01,\n",
       "         -7.1949e-01,  4.6434e-01, -1.9481e-01, -1.6341e-01, -1.6832e-01,\n",
       "         -3.8639e-01, -3.1800e-01,  7.4349e-01, -1.9844e-01,  6.2050e-02,\n",
       "         -4.5278e-02, -1.1315e+00,  2.0046e-01,  3.2687e-01, -2.3120e-01,\n",
       "          1.9952e-01,  1.4951e-01, -6.1853e-01,  2.5489e-01,  2.0271e-01,\n",
       "          4.2556e-02,  6.5159e-01,  6.0025e-01, -1.1050e-01,  4.4274e-02,\n",
       "         -5.7011e-02, -3.2168e-01, -1.0637e-01,  7.8639e-02,  5.5720e-01,\n",
       "         -1.2671e-01,  1.2954e-01, -5.6202e-01, -5.4735e-03, -1.3463e-01,\n",
       "          3.4684e-01, -3.2639e-01, -4.6689e-01, -4.2641e-01,  9.0886e-01,\n",
       "          6.3436e-01, -1.9079e-01, -1.6143e-01,  4.7229e-01,  2.6714e-01,\n",
       "          7.2815e-01, -1.2201e-01,  1.7624e-01, -3.3568e-03,  2.5206e-01,\n",
       "         -3.4740e-01, -2.2432e-01,  1.1922e-02,  1.8569e-01, -1.8282e-01,\n",
       "          2.1586e-01,  3.9592e-02, -2.5275e-02,  8.6957e-02,  2.8097e-01,\n",
       "         -3.4156e-01, -2.4796e-02, -2.5200e-01, -4.5509e-01,  5.3013e-02,\n",
       "         -3.0698e-01, -1.9875e-01,  1.9715e-01, -3.3844e-01,  1.4862e-01,\n",
       "         -5.1677e-01,  3.0338e-01,  2.1401e-01,  4.8507e-02, -1.8755e-01,\n",
       "         -8.3820e-02, -4.6977e-01,  2.1329e-01,  2.3090e-02, -4.2722e-01,\n",
       "          4.2871e-01, -5.9102e-01,  2.3017e-01, -1.7329e-02,  5.0297e-01,\n",
       "         -6.2813e-01, -1.4301e-01,  6.0163e-01, -6.4547e-01,  8.9585e-02,\n",
       "         -2.9112e-02, -1.6840e-01, -4.1238e-03, -4.5196e-01,  1.9211e-02,\n",
       "          1.9176e-01,  6.8745e-01, -1.3287e-01,  5.1726e-01,  1.4408e-01,\n",
       "          1.0191e-01, -3.1754e-01, -5.6315e-03, -8.5942e-01, -8.4224e-01,\n",
       "          1.5418e-01,  3.6778e-01, -1.0037e-01, -1.5397e+00, -3.9896e-01,\n",
       "         -1.2564e-01, -1.8794e-01,  8.8042e-02, -5.2138e-01, -4.3250e-01,\n",
       "         -6.7844e-01, -6.7745e-01,  4.2190e-01,  3.4778e-01, -3.6213e-01,\n",
       "          4.2482e-01,  4.9186e-01,  3.2876e-01, -1.2694e-01, -3.0946e-01,\n",
       "          1.2174e-01,  5.6793e-01,  1.9614e-02,  6.5155e-02, -2.3160e-01,\n",
       "         -4.8909e-01, -9.9454e-03,  1.5602e-01, -6.9594e-02, -5.3647e-02,\n",
       "          3.9996e-01,  3.6158e-02,  1.7046e-01,  4.0952e-01, -7.0495e-02,\n",
       "         -1.1754e-01, -3.0492e-02,  1.8531e-01, -9.6505e-01,  1.3901e-02,\n",
       "         -4.5590e-01, -1.5244e-01,  2.2140e-01, -7.1535e-01, -3.9777e-01,\n",
       "          9.0824e-01, -3.3888e-02,  3.4804e-01,  8.2343e-03, -2.4932e-01,\n",
       "          5.1440e-01, -1.3510e-01,  1.6834e-01, -8.2939e-01,  3.2937e-01,\n",
       "          7.2812e-01,  2.3192e-01,  2.2467e-01, -9.5977e-02,  2.0886e-01,\n",
       "          2.8345e-01, -6.1094e-01,  2.3804e-01,  1.8525e-01, -3.6992e-01,\n",
       "         -3.4694e-01,  7.4988e-01,  2.1568e-01,  1.1566e-02,  6.8048e-01,\n",
       "          4.7472e-02, -3.5177e-01,  2.2433e-02, -2.8700e-01,  2.5251e-01,\n",
       "          8.3053e-02,  4.2716e-01,  4.4965e-01,  5.6627e-01,  1.1542e-01,\n",
       "          3.8893e-01,  3.0079e-01,  7.3960e-02, -3.0823e-01, -2.4537e-01,\n",
       "         -2.3066e-01, -5.9416e-02,  4.8165e-02, -6.4270e-01, -1.3649e-01,\n",
       "          9.0654e-01,  7.6776e-02,  9.4362e-02,  5.9632e-01, -6.2661e-01,\n",
       "          1.2795e-01,  5.4581e-02,  1.7471e-01, -4.1416e-01, -3.2069e-01,\n",
       "         -3.9671e-01, -1.7652e-01, -4.3349e-01,  1.4538e-01, -3.8047e-01,\n",
       "          4.8674e-01, -1.9497e-01,  1.3423e-01,  1.8978e-01, -5.0730e-02,\n",
       "          9.4943e-02,  2.0987e-03, -5.8315e-01, -7.4732e-01,  6.1119e-01,\n",
       "         -2.3068e-01, -9.3295e-02, -3.4114e-01, -1.3620e-01, -1.6182e-01,\n",
       "          5.0139e-01,  2.6670e-01,  1.8847e-02, -3.9915e-02,  3.0696e-01,\n",
       "          8.1785e-02, -2.0698e+00,  3.1271e-01, -3.0901e-01, -4.5899e-02,\n",
       "         -2.9520e-01, -3.4809e-01,  4.3948e-01, -1.4483e-01,  7.4523e-02,\n",
       "         -1.4155e-01, -7.2229e-01,  3.2987e-01, -5.2571e-02,  2.1996e-01,\n",
       "          3.1134e-01,  8.1687e-01,  1.6795e-01,  2.6450e-02, -5.4899e-01,\n",
       "          1.6978e-01, -2.1174e-01,  2.3158e-01, -1.0046e-01,  3.1363e-01,\n",
       "          3.7412e-02, -6.3571e-01,  3.3092e-01,  2.7097e-01,  1.6925e-01,\n",
       "         -4.7091e-01, -6.2637e-01,  1.0872e-01, -3.5674e-01,  5.1478e-01,\n",
       "          7.4830e-01,  3.9702e-01, -2.4295e-01]], grad_fn=<MeanBackward1>)"
      ]
     },
     "execution_count": 9,
     "metadata": {},
     "output_type": "execute_result"
    }
   ],
   "source": [
    "encoded_input = tokenizer(data['long_description'][0], return_tensors='pt')\n",
    "output = model(**encoded_input)\n",
    "output.last_hidden_state.mean(dim=1) # mean pooling of embeddings on last hidden layer"
   ]
  },
  {
   "cell_type": "code",
   "execution_count": 16,
   "metadata": {},
   "outputs": [
    {
     "data": {
      "text/plain": [
       "{'input_ids': tensor([[  101, 10141, 69338,   102]]), 'token_type_ids': tensor([[0, 0, 0, 0]]), 'attention_mask': tensor([[1, 1, 1, 1]])}"
      ]
     },
     "execution_count": 16,
     "metadata": {},
     "output_type": "execute_result"
    }
   ],
   "source": [
    "tokenizer(\"le chat\", return_tensors='pt') "
   ]
  },
  {
   "cell_type": "code",
   "execution_count": 17,
   "metadata": {},
   "outputs": [],
   "source": [
    "def embed(text: str):\n",
    "    tokens = tokenizer(text, return_tensors='pt', truncation=True)\n",
    "    if len(tokens) > 512:\n",
    "        tokens = tokens[:512]\n",
    "    output = model(**tokens)\n",
    "    return output.last_hidden_state.mean(dim=1).tolist()[0]"
   ]
  },
  {
   "cell_type": "code",
   "execution_count": 18,
   "metadata": {},
   "outputs": [],
   "source": [
    "embeddings = [embed(s) for s in data['long_description']]"
   ]
  },
  {
   "cell_type": "code",
   "execution_count": 19,
   "metadata": {},
   "outputs": [],
   "source": [
    "pandas.DataFrame(embeddings).to_csv(\"embed_bert_long.csv\")"
   ]
  },
  {
   "cell_type": "code",
   "execution_count": null,
   "metadata": {},
   "outputs": [],
   "source": []
  }
 ],
 "metadata": {
  "kernelspec": {
   "display_name": "env",
   "language": "python",
   "name": "python3"
  },
  "language_info": {
   "codemirror_mode": {
    "name": "ipython",
    "version": 3
   },
   "file_extension": ".py",
   "mimetype": "text/x-python",
   "name": "python",
   "nbconvert_exporter": "python",
   "pygments_lexer": "ipython3",
   "version": "3.9.4"
  }
 },
 "nbformat": 4,
 "nbformat_minor": 2
}
