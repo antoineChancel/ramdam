{
 "cells": [
  {
   "cell_type": "code",
   "execution_count": 13,
   "metadata": {},
   "outputs": [
    {
     "name": "stderr",
     "output_type": "stream",
     "text": [
      "/Users/achancel/Projects/ramdam/env/lib/python3.9/site-packages/tqdm/auto.py:21: TqdmWarning: IProgress not found. Please update jupyter and ipywidgets. See https://ipywidgets.readthedocs.io/en/stable/user_install.html\n",
      "  from .autonotebook import tqdm as notebook_tqdm\n"
     ]
    }
   ],
   "source": [
    "import pandas\n",
    "from sentence_transformers import SentenceTransformer"
   ]
  },
  {
   "cell_type": "code",
   "execution_count": 4,
   "metadata": {},
   "outputs": [],
   "source": [
    "data = pandas.read_csv(\"../data/data.csv\")"
   ]
  },
  {
   "cell_type": "code",
   "execution_count": 5,
   "metadata": {},
   "outputs": [
    {
     "data": {
      "text/html": [
       "<div>\n",
       "<style scoped>\n",
       "    .dataframe tbody tr th:only-of-type {\n",
       "        vertical-align: middle;\n",
       "    }\n",
       "\n",
       "    .dataframe tbody tr th {\n",
       "        vertical-align: top;\n",
       "    }\n",
       "\n",
       "    .dataframe thead th {\n",
       "        text-align: right;\n",
       "    }\n",
       "</style>\n",
       "<table border=\"1\" class=\"dataframe\">\n",
       "  <thead>\n",
       "    <tr style=\"text-align: right;\">\n",
       "      <th></th>\n",
       "      <th>campaign_id</th>\n",
       "      <th>product_name</th>\n",
       "      <th>short_description</th>\n",
       "      <th>long_description</th>\n",
       "    </tr>\n",
       "  </thead>\n",
       "  <tbody>\n",
       "    <tr>\n",
       "      <th>0</th>\n",
       "      <td>51831d3f-cb5f-4ce1-94df-f56b7b9fea23</td>\n",
       "      <td>Beyond Body - Personalized Wellness Book</td>\n",
       "      <td>Embark on a personalized wellness journey with...</td>\n",
       "      <td>Beyond Body is more than just a wellness book,...</td>\n",
       "    </tr>\n",
       "    <tr>\n",
       "      <th>1</th>\n",
       "      <td>aff29b17-7d00-43a9-accc-28342c15faa0</td>\n",
       "      <td>Better In Person Dating App</td>\n",
       "      <td>Seeking creators to create UGC-style videos hi...</td>\n",
       "      <td>Better in Person is a dating app for intention...</td>\n",
       "    </tr>\n",
       "    <tr>\n",
       "      <th>2</th>\n",
       "      <td>bfe17c54-6a0b-4357-9c42-f2c47d647312</td>\n",
       "      <td>ISM</td>\n",
       "      <td>Play around with Ism Lens for that cool twist,...</td>\n",
       "      <td>Unlock the potential of your creativity with I...</td>\n",
       "    </tr>\n",
       "    <tr>\n",
       "      <th>3</th>\n",
       "      <td>b047aaef-f3ce-4758-84ea-784ee41026cf</td>\n",
       "      <td>Officiel QI Test</td>\n",
       "      <td>Promouvoir Officiel QI Test, un service de tes...</td>\n",
       "      <td>Dans cette campagne, nous voulons promouvoir O...</td>\n",
       "    </tr>\n",
       "    <tr>\n",
       "      <th>4</th>\n",
       "      <td>7ff00182-260c-44de-ac4a-068ce407e64c</td>\n",
       "      <td>Joko</td>\n",
       "      <td>Dans cette campagne on commence par un hook où...</td>\n",
       "      <td>Dans cette campagne on commence par un hook où...</td>\n",
       "    </tr>\n",
       "  </tbody>\n",
       "</table>\n",
       "</div>"
      ],
      "text/plain": [
       "                            campaign_id  \\\n",
       "0  51831d3f-cb5f-4ce1-94df-f56b7b9fea23   \n",
       "1  aff29b17-7d00-43a9-accc-28342c15faa0   \n",
       "2  bfe17c54-6a0b-4357-9c42-f2c47d647312   \n",
       "3  b047aaef-f3ce-4758-84ea-784ee41026cf   \n",
       "4  7ff00182-260c-44de-ac4a-068ce407e64c   \n",
       "\n",
       "                               product_name  \\\n",
       "0  Beyond Body - Personalized Wellness Book   \n",
       "1               Better In Person Dating App   \n",
       "2                                       ISM   \n",
       "3                          Officiel QI Test   \n",
       "4                                      Joko   \n",
       "\n",
       "                                   short_description  \\\n",
       "0  Embark on a personalized wellness journey with...   \n",
       "1  Seeking creators to create UGC-style videos hi...   \n",
       "2  Play around with Ism Lens for that cool twist,...   \n",
       "3  Promouvoir Officiel QI Test, un service de tes...   \n",
       "4  Dans cette campagne on commence par un hook où...   \n",
       "\n",
       "                                    long_description  \n",
       "0  Beyond Body is more than just a wellness book,...  \n",
       "1  Better in Person is a dating app for intention...  \n",
       "2  Unlock the potential of your creativity with I...  \n",
       "3  Dans cette campagne, nous voulons promouvoir O...  \n",
       "4  Dans cette campagne on commence par un hook où...  "
      ]
     },
     "execution_count": 5,
     "metadata": {},
     "output_type": "execute_result"
    }
   ],
   "source": [
    "data.head()"
   ]
  },
  {
   "cell_type": "code",
   "execution_count": 6,
   "metadata": {},
   "outputs": [
    {
     "data": {
      "text/html": [
       "<div>\n",
       "<style scoped>\n",
       "    .dataframe tbody tr th:only-of-type {\n",
       "        vertical-align: middle;\n",
       "    }\n",
       "\n",
       "    .dataframe tbody tr th {\n",
       "        vertical-align: top;\n",
       "    }\n",
       "\n",
       "    .dataframe thead th {\n",
       "        text-align: right;\n",
       "    }\n",
       "</style>\n",
       "<table border=\"1\" class=\"dataframe\">\n",
       "  <thead>\n",
       "    <tr style=\"text-align: right;\">\n",
       "      <th></th>\n",
       "      <th>campaign_id</th>\n",
       "      <th>product_name</th>\n",
       "      <th>short_description</th>\n",
       "      <th>long_description</th>\n",
       "    </tr>\n",
       "  </thead>\n",
       "  <tbody>\n",
       "    <tr>\n",
       "      <th>count</th>\n",
       "      <td>706</td>\n",
       "      <td>706</td>\n",
       "      <td>706</td>\n",
       "      <td>706</td>\n",
       "    </tr>\n",
       "    <tr>\n",
       "      <th>unique</th>\n",
       "      <td>706</td>\n",
       "      <td>388</td>\n",
       "      <td>596</td>\n",
       "      <td>609</td>\n",
       "    </tr>\n",
       "    <tr>\n",
       "      <th>top</th>\n",
       "      <td>51831d3f-cb5f-4ce1-94df-f56b7b9fea23</td>\n",
       "      <td>Joko</td>\n",
       "      <td>Mojo is a social content maker app designed to...</td>\n",
       "      <td>Yubo is highlighting its socially responsible ...</td>\n",
       "    </tr>\n",
       "    <tr>\n",
       "      <th>freq</th>\n",
       "      <td>1</td>\n",
       "      <td>35</td>\n",
       "      <td>10</td>\n",
       "      <td>9</td>\n",
       "    </tr>\n",
       "  </tbody>\n",
       "</table>\n",
       "</div>"
      ],
      "text/plain": [
       "                                 campaign_id product_name  \\\n",
       "count                                    706          706   \n",
       "unique                                   706          388   \n",
       "top     51831d3f-cb5f-4ce1-94df-f56b7b9fea23         Joko   \n",
       "freq                                       1           35   \n",
       "\n",
       "                                        short_description  \\\n",
       "count                                                 706   \n",
       "unique                                                596   \n",
       "top     Mojo is a social content maker app designed to...   \n",
       "freq                                                   10   \n",
       "\n",
       "                                         long_description  \n",
       "count                                                 706  \n",
       "unique                                                609  \n",
       "top     Yubo is highlighting its socially responsible ...  \n",
       "freq                                                    9  "
      ]
     },
     "execution_count": 6,
     "metadata": {},
     "output_type": "execute_result"
    }
   ],
   "source": [
    "data.describe()"
   ]
  },
  {
   "cell_type": "code",
   "execution_count": 7,
   "metadata": {},
   "outputs": [
    {
     "data": {
      "text/plain": [
       "product_name\n",
       "Joko                              35\n",
       "Mojo                              20\n",
       "Yubo: Make friends in your way    15\n",
       "Weward                            11\n",
       "Ramdam Creator App                11\n",
       "Wizz                               9\n",
       "SwipeWipe                          9\n",
       "The Oregon Trail: Boom Town        8\n",
       "WeWard                             8\n",
       "Yubo: Make friends your way        8\n",
       "BeReal                             8\n",
       "Hily                               7\n",
       "Fashion Verse                      7\n",
       "Fruitz                             7\n",
       "Ramdam                             6\n",
       "Weasyo                             6\n",
       "MultiPolls                         6\n",
       "Color Pop                          6\n",
       "Axonaut                            6\n",
       "Alma Studio                        5\n",
       "Name: count, dtype: int64"
      ]
     },
     "execution_count": 7,
     "metadata": {},
     "output_type": "execute_result"
    }
   ],
   "source": [
    "data['product_name'].value_counts()[:20]"
   ]
  },
  {
   "cell_type": "code",
   "execution_count": 8,
   "metadata": {},
   "outputs": [
    {
     "data": {
      "text/plain": [
       "count                                                   706\n",
       "unique                                                  596\n",
       "top       Mojo is a social content maker app designed to...\n",
       "freq                                                     10\n",
       "Name: short_description, dtype: object"
      ]
     },
     "execution_count": 8,
     "metadata": {},
     "output_type": "execute_result"
    }
   ],
   "source": [
    "data['short_description'].describe()"
   ]
  },
  {
   "cell_type": "code",
   "execution_count": 9,
   "metadata": {},
   "outputs": [
    {
     "data": {
      "text/html": [
       "<div>\n",
       "<style scoped>\n",
       "    .dataframe tbody tr th:only-of-type {\n",
       "        vertical-align: middle;\n",
       "    }\n",
       "\n",
       "    .dataframe tbody tr th {\n",
       "        vertical-align: top;\n",
       "    }\n",
       "\n",
       "    .dataframe thead th {\n",
       "        text-align: right;\n",
       "    }\n",
       "</style>\n",
       "<table border=\"1\" class=\"dataframe\">\n",
       "  <thead>\n",
       "    <tr style=\"text-align: right;\">\n",
       "      <th></th>\n",
       "      <th>campaign_id</th>\n",
       "      <th>product_name</th>\n",
       "      <th>short_description</th>\n",
       "      <th>long_description</th>\n",
       "    </tr>\n",
       "  </thead>\n",
       "  <tbody>\n",
       "    <tr>\n",
       "      <th>80</th>\n",
       "      <td>a038baf2-11ce-4747-b39d-6bcc6b0a1373</td>\n",
       "      <td>TextMe</td>\n",
       "      <td>-</td>\n",
       "      <td>-</td>\n",
       "    </tr>\n",
       "    <tr>\n",
       "      <th>111</th>\n",
       "      <td>13442124-7975-4e82-9fec-dc20317ddecb</td>\n",
       "      <td>Ramdam App</td>\n",
       "      <td>Ramdam Test Campaign</td>\n",
       "      <td>Looking to launch a new video campaign? Our te...</td>\n",
       "    </tr>\n",
       "    <tr>\n",
       "      <th>157</th>\n",
       "      <td>4fa1569c-6d66-4a33-b1cf-6c366216357b</td>\n",
       "      <td>Ramdam App CustomStepProvidePromoCode test update</td>\n",
       "      <td>Ramdam Test Campaign</td>\n",
       "      <td>Looking to launch a new video campaign? Our te...</td>\n",
       "    </tr>\n",
       "    <tr>\n",
       "      <th>205</th>\n",
       "      <td>0d4ebcd1-1428-4e79-b6bc-3bf4fa92ed07</td>\n",
       "      <td>Ramdam App</td>\n",
       "      <td>Ramdam Test Campaign</td>\n",
       "      <td>Looking to launch a new video campaign? Our te...</td>\n",
       "    </tr>\n",
       "    <tr>\n",
       "      <th>372</th>\n",
       "      <td>b21d76fc-09f5-4a15-bf8a-84c56d8c89dc</td>\n",
       "      <td>Ramdam App</td>\n",
       "      <td>Ramdam Test Campaign</td>\n",
       "      <td>Looking to launch a new video campaign? Our te...</td>\n",
       "    </tr>\n",
       "    <tr>\n",
       "      <th>450</th>\n",
       "      <td>4567fafd-cec6-4518-b655-4f2944a0a22f</td>\n",
       "      <td>AI localized Wizz video</td>\n",
       "      <td>AI localized Wizz video</td>\n",
       "      <td>Ramdam team will send you the url of your loca...</td>\n",
       "    </tr>\n",
       "    <tr>\n",
       "      <th>474</th>\n",
       "      <td>c8af3112-0b90-441e-b5ff-a7014f58f9e7</td>\n",
       "      <td>Octo</td>\n",
       "      <td>-</td>\n",
       "      <td>test</td>\n",
       "    </tr>\n",
       "    <tr>\n",
       "      <th>550</th>\n",
       "      <td>e7e37057-56d6-4897-a7f0-e209c4077903</td>\n",
       "      <td>WeWard</td>\n",
       "      <td>歩行を報酬するモバイルアプリです。</td>\n",
       "      <td>WeWardは、歩行に対してユーザーに報酬を与えるモバイルアプリです。歩けば歩くほど、ワード...</td>\n",
       "    </tr>\n",
       "    <tr>\n",
       "      <th>556</th>\n",
       "      <td>849abe86-14f6-47aa-a66c-fe8ef4f563c7</td>\n",
       "      <td>Piano</td>\n",
       "      <td>Play piano easily with fun.</td>\n",
       "      <td>Learn piano easily and have fun doing it! With...</td>\n",
       "    </tr>\n",
       "    <tr>\n",
       "      <th>594</th>\n",
       "      <td>3259974d-f940-4844-b563-eaac0d7cfbe2</td>\n",
       "      <td>Yubo</td>\n",
       "      <td>-</td>\n",
       "      <td>-</td>\n",
       "    </tr>\n",
       "    <tr>\n",
       "      <th>620</th>\n",
       "      <td>e3d644af-cdc3-48da-abf3-fea0c5a2094c</td>\n",
       "      <td>Color Pop</td>\n",
       "      <td>A digital coloring app !</td>\n",
       "      <td>Color Pop is the perfect way to unleash your i...</td>\n",
       "    </tr>\n",
       "  </tbody>\n",
       "</table>\n",
       "</div>"
      ],
      "text/plain": [
       "                              campaign_id  \\\n",
       "80   a038baf2-11ce-4747-b39d-6bcc6b0a1373   \n",
       "111  13442124-7975-4e82-9fec-dc20317ddecb   \n",
       "157  4fa1569c-6d66-4a33-b1cf-6c366216357b   \n",
       "205  0d4ebcd1-1428-4e79-b6bc-3bf4fa92ed07   \n",
       "372  b21d76fc-09f5-4a15-bf8a-84c56d8c89dc   \n",
       "450  4567fafd-cec6-4518-b655-4f2944a0a22f   \n",
       "474  c8af3112-0b90-441e-b5ff-a7014f58f9e7   \n",
       "550  e7e37057-56d6-4897-a7f0-e209c4077903   \n",
       "556  849abe86-14f6-47aa-a66c-fe8ef4f563c7   \n",
       "594  3259974d-f940-4844-b563-eaac0d7cfbe2   \n",
       "620  e3d644af-cdc3-48da-abf3-fea0c5a2094c   \n",
       "\n",
       "                                          product_name  \\\n",
       "80                                              TextMe   \n",
       "111                                         Ramdam App   \n",
       "157  Ramdam App CustomStepProvidePromoCode test update   \n",
       "205                                         Ramdam App   \n",
       "372                                         Ramdam App   \n",
       "450                            AI localized Wizz video   \n",
       "474                                               Octo   \n",
       "550                                             WeWard   \n",
       "556                                              Piano   \n",
       "594                                               Yubo   \n",
       "620                                          Color Pop   \n",
       "\n",
       "               short_description  \\\n",
       "80                             -   \n",
       "111         Ramdam Test Campaign   \n",
       "157         Ramdam Test Campaign   \n",
       "205         Ramdam Test Campaign   \n",
       "372         Ramdam Test Campaign   \n",
       "450      AI localized Wizz video   \n",
       "474                            -   \n",
       "550            歩行を報酬するモバイルアプリです。   \n",
       "556  Play piano easily with fun.   \n",
       "594                            -   \n",
       "620     A digital coloring app !   \n",
       "\n",
       "                                      long_description  \n",
       "80                                                   -  \n",
       "111  Looking to launch a new video campaign? Our te...  \n",
       "157  Looking to launch a new video campaign? Our te...  \n",
       "205  Looking to launch a new video campaign? Our te...  \n",
       "372  Looking to launch a new video campaign? Our te...  \n",
       "450  Ramdam team will send you the url of your loca...  \n",
       "474                                               test  \n",
       "550  WeWardは、歩行に対してユーザーに報酬を与えるモバイルアプリです。歩けば歩くほど、ワード...  \n",
       "556  Learn piano easily and have fun doing it! With...  \n",
       "594                                                  -  \n",
       "620  Color Pop is the perfect way to unleash your i...  "
      ]
     },
     "execution_count": 9,
     "metadata": {},
     "output_type": "execute_result"
    }
   ],
   "source": [
    "data[data['short_description'].apply(lambda s: len(s)) < 30]"
   ]
  },
  {
   "cell_type": "code",
   "execution_count": 10,
   "metadata": {},
   "outputs": [
    {
     "data": {
      "text/plain": [
       "148.68555240793202"
      ]
     },
     "execution_count": 10,
     "metadata": {},
     "output_type": "execute_result"
    }
   ],
   "source": [
    "data['short_description'].apply(lambda s: len(s)).mean()"
   ]
  },
  {
   "cell_type": "code",
   "execution_count": null,
   "metadata": {},
   "outputs": [],
   "source": [
    "# remove duplicated short description\n",
    "data = data.drop_duplicates(['short_description'])"
   ]
  },
  {
   "cell_type": "code",
   "execution_count": 12,
   "metadata": {},
   "outputs": [],
   "source": [
    "data = data[data['short_description'] != '-']"
   ]
  },
  {
   "cell_type": "code",
   "execution_count": 14,
   "metadata": {},
   "outputs": [],
   "source": [
    "model = SentenceTransformer('sentence-transformers/distiluse-base-multilingual-cased-v1')"
   ]
  },
  {
   "cell_type": "code",
   "execution_count": 16,
   "metadata": {},
   "outputs": [],
   "source": [
    "embeddings = [model.encode(s).tolist() for s in data['short_description']]"
   ]
  },
  {
   "cell_type": "code",
   "execution_count": null,
   "metadata": {},
   "outputs": [],
   "source": []
  }
 ],
 "metadata": {
  "kernelspec": {
   "display_name": "env",
   "language": "python",
   "name": "python3"
  },
  "language_info": {
   "codemirror_mode": {
    "name": "ipython",
    "version": 3
   },
   "file_extension": ".py",
   "mimetype": "text/x-python",
   "name": "python",
   "nbconvert_exporter": "python",
   "pygments_lexer": "ipython3",
   "version": "3.9.4"
  }
 },
 "nbformat": 4,
 "nbformat_minor": 2
}
